{
 "cells": [
  {
   "cell_type": "markdown",
   "metadata": {},
   "source": [
    "# Linear Regression\n",
    "\n",
    "In this assignment, we will first work with using linear regression to solve overdetermined systems. Then, we will apply linear regression to system identification to solve for control parameters.\n",
    "\n",
    "Run the code block below to import necessary libraries."
   ]
  },
  {
   "cell_type": "code",
   "execution_count": 1,
   "metadata": {},
   "outputs": [
    {
     "name": "stdout",
     "output_type": "stream",
     "text": [
      "Requirement already satisfied: numpy in c:\\users\\john\\miniconda3\\lib\\site-packages (1.19.3)\n"
     ]
    },
    {
     "name": "stderr",
     "output_type": "stream",
     "text": [
      "The system cannot find the path specified.\n"
     ]
    },
    {
     "name": "stdout",
     "output_type": "stream",
     "text": [
      "Requirement already satisfied: matplotlib in c:\\users\\john\\miniconda3\\lib\\site-packages (3.3.3)\n",
      "Requirement already satisfied: pillow>=6.2.0 in c:\\users\\john\\miniconda3\\lib\\site-packages (from matplotlib) (8.0.1)\n",
      "Requirement already satisfied: cycler>=0.10 in c:\\users\\john\\miniconda3\\lib\\site-packages (from matplotlib) (0.10.0)\n",
      "Requirement already satisfied: pyparsing!=2.0.4,!=2.1.2,!=2.1.6,>=2.0.3 in c:\\users\\john\\miniconda3\\lib\\site-packages (from matplotlib) (2.4.7)\n",
      "Requirement already satisfied: numpy>=1.15 in c:\\users\\john\\miniconda3\\lib\\site-packages (from matplotlib) (1.19.3)\n",
      "Requirement already satisfied: kiwisolver>=1.0.1 in c:\\users\\john\\miniconda3\\lib\\site-packages (from matplotlib) (1.3.1)\n",
      "Requirement already satisfied: python-dateutil>=2.1 in c:\\users\\john\\miniconda3\\lib\\site-packages (from matplotlib) (2.8.1)\n",
      "Requirement already satisfied: six in c:\\users\\john\\miniconda3\\lib\\site-packages (from cycler>=0.10->matplotlib) (1.15.0)\n"
     ]
    },
    {
     "name": "stderr",
     "output_type": "stream",
     "text": [
      "The system cannot find the path specified.\n"
     ]
    }
   ],
   "source": [
    "!pip install numpy\n",
    "!pip install matplotlib\n",
    "\n",
    "import numpy as np\n",
    "from matplotlib import pyplot as plt\n",
    "from helper import Model"
   ]
  },
  {
   "cell_type": "markdown",
   "metadata": {},
   "source": [
    "# Part 1: Model Definition\n",
    "\n",
    "In this assignment, we will run through a basic example of the `Model` API. Feel free to skip this section if you are already familiar with the content.\n",
    "\n",
    "## The Model Class\n",
    "\n",
    "For this set of assignments, you will implement subclasses of a `Model` class. A `Model` object is responsible for both maintaining its state and advancing its internal dynamics. A `Model` object has the following properties:\n",
    "1. `Model.obs_dim` - the dimensionality of the state space\n",
    "2. `Model.act_dim` - the expected dimensionality of the `Model`'s  input.\n",
    "3. `Model._state` - the current state of our model. This can be accessed using the `Model.state()` method. \n",
    "\n",
    "All `Model`s are expected to have observation and action dimension specified on instantiation. See the code below for an example.\n",
    "\n",
    "Furthermore, all `Model`s must implement the following:\n",
    "\n",
    "1. `Model.forward()` - takes in an `np.array` of expected shape `Model.obs_dim`. The model then returns a tuple of `(state_0, state_1)`, where `state_0` represents the initial state of the model, and `state_1` represents the state of the model after advancing by 1 timestep."
   ]
  },
  {
   "cell_type": "code",
   "execution_count": 2,
   "metadata": {},
   "outputs": [],
   "source": [
    "from helper import SampleModel\n",
    "\n",
    "sample_act_dim = 1\n",
    "sample_obs_dim = 1\n",
    "\n",
    "# defining a model by specifying action and observation dimensions\n",
    "model = SampleModel(sample_act_dim, sample_obs_dim)"
   ]
  },
  {
   "cell_type": "code",
   "execution_count": 3,
   "metadata": {},
   "outputs": [
    {
     "name": "stdout",
     "output_type": "stream",
     "text": [
      "The model's current state: [0.5488135]\n"
     ]
    }
   ],
   "source": [
    "print(\"The model's current state: {}\".format(model.state()))"
   ]
  },
  {
   "cell_type": "code",
   "execution_count": 4,
   "metadata": {},
   "outputs": [
    {
     "name": "stdout",
     "output_type": "stream",
     "text": [
      "The model's previous state: [0.5488135]\n",
      "The model's new state: [3.19935423]\n",
      "The model's internal state: [3.19935423]\n"
     ]
    }
   ],
   "source": [
    "# We can advance the state manually using the forward method:\n",
    "state_0, state_1 = model.forward(np.random.normal())\n",
    "\n",
    "print(\"The model's previous state: {}\".format(state_0))\n",
    "print(\"The model's new state: {}\".format(state_1))\n",
    "\n",
    "# Querying the model's state shows that it has updated:\n",
    "print(\"The model's internal state: {}\".format(model.state()))"
   ]
  },
  {
   "cell_type": "code",
   "execution_count": 5,
   "metadata": {},
   "outputs": [
    {
     "name": "stdout",
     "output_type": "stream",
     "text": [
      "Sample state: [0.54488318]\n",
      "The model's previous state: [0.54488318]\n",
      "The model's new state: [0.65737167]\n",
      "The model's internal state: [3.19935423]\n"
     ]
    }
   ],
   "source": [
    "# Note that if a state is specified, the internal state is not updated.\n",
    "sample_state = np.random.random(sample_obs_dim)\n",
    "state_0, state_1 = model.forward(np.random.normal(sample_act_dim), state=sample_state)\n",
    "\n",
    "print(\"Sample state: {}\".format(sample_state))\n",
    "print(\"The model's previous state: {}\".format(state_0))\n",
    "print(\"The model's new state: {}\".format(state_1))\n",
    "\n",
    "# Querying the model's state shows that it has NOT updated:\n",
    "print(\"The model's internal state: {}\".format(model.state()))"
   ]
  },
  {
   "cell_type": "markdown",
   "metadata": {},
   "source": [
    "## Part 2: Linear Regression\n",
    "\n",
    "In this section, we will explore using linear regression to solve overdetermined systems of equations. \n",
    "\n",
    "### Linear Regression\n",
    "Linear Regression is a technique used to solve the least squares problem; in the least squares problem, we aim to minimize a ***cost function*** $\\mathcal{L}(y,\\hat{y}) = \\lVert \\hat{y}-y \\rVert_2^2$.\n",
    "\n",
    "Let $\\hat{y} = Xw$, where $X$ is a ***design matrix*** of dimensions $R^{n \\times d}$, where $n$ is the number of sample points and $d$ is the dimension of each input. \n",
    "\n",
    "By setting the gradient with respect to w of the above function to 0, we obtain that the optimizer $w* = (X^TX)^{-1}X^Ty$. This solution is flexible and works for any matrices satisifying the setup above, provided they meet some constraints."
   ]
  },
  {
   "cell_type": "markdown",
   "metadata": {},
   "source": [
    "### Question 1: Complex 1D model with no inputs\n",
    "In this question, we will aim to solve a complex 1D model. Run the following code block to initialize the model.\n",
    "\n",
    "***NOTE***: this model is independent of inputs. For simplicity, you can ignore inputting actions for this model (they will not affect it in any way)."
   ]
  },
  {
   "cell_type": "code",
   "execution_count": 6,
   "metadata": {},
   "outputs": [],
   "source": [
    "from helper import Complex1DModel\n",
    "\n",
    "act_dim = 1\n",
    "obs_dim = 1\n",
    "\n",
    "model = Complex1DModel(act_dim, obs_dim)"
   ]
  },
  {
   "cell_type": "markdown",
   "metadata": {},
   "source": [
    "In order to approximate the system, we need to collect samples of transitions between ($x, y$).\n",
    "1. Use the `Model`s `forward()` method to collect transitions between states. You can choose to either run one state sequentially, or use the optional `state0` argument to specify an initial state $x$. (Hint: we want to explore many different regions of operation. Is one option better suited to this?)\n",
    "2. Store the results in an `np.array`; be sure to set up the design matrix $X$ and the outputs $y$ accordingly.\n",
    "3. Solve the problem using the closed form least square solution. You can implement this manually, or use a popular computing package (i.e. `numpy` or `scipy`)\n",
    "\n",
    "To be safe, it should be enough to collect 30 data points. However, collecting more will likely increase the fidelity of your models."
   ]
  },
  {
   "cell_type": "code",
   "execution_count": 7,
   "metadata": {},
   "outputs": [],
   "source": [
    "# solution:\n",
    "def linear_regression_1d(model):\n",
    "    batches = 1000\n",
    "    X = []\n",
    "    Y = []\n",
    "    w = None\n",
    "    \n",
    "    for i in range(batches):\n",
    "        state = np.random.random(obs_dim)\n",
    "        x, y = model.forward(state=state)\n",
    "        X += [x]\n",
    "        Y += [y]\n",
    "\n",
    "    X = np.array(X)\n",
    "    Y = np.array(Y)\n",
    "\n",
    "    w = np.linalg.inv(X.T @ X) @ X.T @ Y\n",
    "    \n",
    "    return w"
   ]
  },
  {
   "cell_type": "code",
   "execution_count": 8,
   "metadata": {},
   "outputs": [
    {
     "name": "stdout",
     "output_type": "stream",
     "text": [
      "optimizer: [[31.62488781]]\n"
     ]
    }
   ],
   "source": [
    "w = linear_regression_1d(model)\n",
    "print(\"optimizer: {}\".format(w))"
   ]
  },
  {
   "cell_type": "markdown",
   "metadata": {},
   "source": [
    "Now, lets evaluate the solution that we created. Run the following code block to visualize the results."
   ]
  },
  {
   "cell_type": "code",
   "execution_count": 9,
   "metadata": {},
   "outputs": [
    {
     "data": {
      "image/png": "[encoded data removed]",
      "text/plain": [
       "<Figure size 720x720 with 1 Axes>"
      ]
     },
     "metadata": {
      "needs_background": "light"
     },
     "output_type": "display_data"
    },
    {
     "name": "stdout",
     "output_type": "stream",
     "text": [
      "MSE loss: 12585.532834271045\n"
     ]
    }
   ],
   "source": [
    "from helper import MSE_loss\n",
    "\n",
    "X = np.linspace(0, 1, 100)[:, np.newaxis]\n",
    "y_hat = X @ w\n",
    "_, Y = model.forward(state=X)\n",
    "\n",
    "plt.figure(figsize=(10, 10))\n",
    "true_model = plt.scatter(X, Y, c='blue', label='True Model')\n",
    "learned_model, = plt.plot(X, y_hat, c='red', label='Learned Model')\n",
    "\n",
    "plt.legend(handles=[true_model ,learned_model])\n",
    "\n",
    "plt.xlabel(\"x\")\n",
    "plt.ylabel(\"y\")\n",
    "plt.title(\"Learned Relationship\")\n",
    "    \n",
    "plt.show()\n",
    "\n",
    "print(\"MSE loss: {}\".format(MSE_loss(Y, y_hat).item()))"
   ]
  },
  {
   "cell_type": "code",
   "execution_count": 32,
   "metadata": {},
   "outputs": [],
   "source": [
    "# solution:\n",
    "def linear_regression_features(model):\n",
    "    batches = 100000\n",
    "    X = []\n",
    "    Y = []\n",
    "    w = None\n",
    "    \n",
    "    for i in range(batches):\n",
    "        state = np.random.random(obs_dim)\n",
    "        x, y = model.forward(state=state)\n",
    "        X += [[x ** 3, x ** 2, x, x ** 0]]\n",
    "        Y += [y]\n",
    "\n",
    "    X = np.squeeze(np.array(X))\n",
    "    Y = np.array(Y)\n",
    "    \n",
    "    w = np.linalg.inv(X.T @ X) \n",
    "    w = w @ X.T \n",
    "    w = w @ Y\n",
    "    \n",
    "    return w"
   ]
  },
  {
   "cell_type": "code",
   "execution_count": 33,
   "metadata": {},
   "outputs": [
    {
     "name": "stdout",
     "output_type": "stream",
     "text": [
      "optimizer: [[ 5.05457891]\n",
      " [-3.08631046]\n",
      " [ 1.03540737]\n",
      " [19.99117045]]\n"
     ]
    }
   ],
   "source": [
    "w = linear_regression_features(model)\n",
    "print(\"optimizer: {}\".format(w))"
   ]
  },
  {
   "cell_type": "markdown",
   "metadata": {},
   "source": [
    "Now, lets evaluate the solution that we created. Run the following code block to visualize the results."
   ]
  },
  {
   "cell_type": "code",
   "execution_count": 34,
   "metadata": {},
   "outputs": [
    {
     "data": {
      "image/png": "[encoded data removed]",
      "text/plain": [
       "<Figure size 720x720 with 1 Axes>"
      ]
     },
     "metadata": {
      "needs_background": "light"
     },
     "output_type": "display_data"
    },
    {
     "name": "stdout",
     "output_type": "stream",
     "text": [
      "MSE loss: 178.35702072534306\n"
     ]
    }
   ],
   "source": [
    "from helper import MSE_loss\n",
    "\n",
    "X = np.linspace(0, 1, 100)\n",
    "X_features = np.stack([X ** 3, X ** 2, X, np.ones(X.shape)]).T\n",
    "\n",
    "y_hat = X_features @ w\n",
    "_, Y = model.forward(state=X)\n",
    "\n",
    "plt.figure(figsize=(10, 10))\n",
    "true_model = plt.scatter(X, Y, c='blue', label='True Model')\n",
    "learned_model, = plt.plot(X, y_hat, c='red', label='Learned Model')\n",
    "\n",
    "plt.legend(handles=[true_model ,learned_model])\n",
    "\n",
    "plt.xlabel(\"x\")\n",
    "plt.ylabel(\"y\")\n",
    "plt.title(\"Learned Relationship\")\n",
    "    \n",
    "plt.show()\n",
    "\n",
    "print(\"MSE loss: {}\".format(MSE_loss(Y, y_hat).item()))"
   ]
  },
  {
   "cell_type": "markdown",
   "metadata": {},
   "source": [
    "## Part 3: System Identification"
   ]
  },
  {
   "cell_type": "code",
   "execution_count": null,
   "metadata": {},
   "outputs": [],
   "source": []
  }
 ],
 "metadata": {
  "kernelspec": {
   "display_name": "Python 3",
   "language": "python",
   "name": "python3"
  },
  "language_info": {
   "codemirror_mode": {
    "name": "ipython",
    "version": 3
   },
   "file_extension": ".py",
   "mimetype": "text/x-python",
   "name": "python",
   "nbconvert_exporter": "python",
   "pygments_lexer": "ipython3",
   "version": "3.8.5"
  }
 },
 "nbformat": 4,
 "nbformat_minor": 4
}
